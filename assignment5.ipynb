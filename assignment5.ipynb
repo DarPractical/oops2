{
 "cells": [
  {
   "cell_type": "markdown",
   "id": "5e8368df-594c-45a7-beed-ea8ee4d9b9aa",
   "metadata": {},
   "source": [
    "# Q1. Explain Class and Object with respect to Object-Oriented Programming. Give a suitable example.\n"
   ]
  },
  {
   "cell_type": "markdown",
   "id": "14d454db-d98f-4e31-aefb-1dbe7adf8bd4",
   "metadata": {},
   "source": [
    "solution:\n",
    "    In object-oriented programming, a class is a blueprint or a template that defines the properties (attributes) and behaviors (methods) of objects. It encapsulates the common characteristics of a group of objects.\n",
    "\n",
    "An object is an instance of a class. It represents a specific entity or concept based on the class definition and possesses its own unique state and behavior."
   ]
  },
  {
   "cell_type": "markdown",
   "id": "10aceecb-cb69-43e8-864e-408b0b4b7898",
   "metadata": {},
   "source": [
    "# Q2. Name the four pillars of OOPs."
   ]
  },
  {
   "cell_type": "markdown",
   "id": "bddb0454-35af-424c-bfe5-13f0f1fdfe3b",
   "metadata": {},
   "source": [
    "solution:\n",
    "    Encapsulation: Encapsulation is the bundling of data and methods into a single unit called a class. It allows for data hiding and provides a way to control access to the internal state of an object.\n",
    "\n",
    "Inheritance: Inheritance allows classes to inherit properties and methods from other classes. It promotes code reuse and establishes a hierarchical relationship between classes, where derived classes inherit the characteristics of base classes.\n",
    "\n",
    "Polymorphism: Polymorphism enables objects of different classes to be treated as objects of a common superclass. It allows for the implementation of methods with the same name but different behaviors in different classes. Polymorphism facilitates code flexibility and extensibility.\n",
    "\n",
    "Abstraction: Abstraction focuses on representing essential features of an object while hiding unnecessary details. It provides a simplified view of an object by defining its essential characteristics and behaviors. Abstraction helps in managing complexity and improves code maintainability."
   ]
  },
  {
   "cell_type": "markdown",
   "id": "7806abc0-97be-4f5f-9889-762595984cec",
   "metadata": {},
   "source": [
    "# Q3. Explain why the __init__() function is used. Give a suitable example."
   ]
  },
  {
   "cell_type": "markdown",
   "id": "b5198ece-b515-4ff1-9f28-7d3dc09938f6",
   "metadata": {},
   "source": [
    "solution:\n",
    "    The __init__() function in Python is used as a constructor method for a class. It initializes the attributes of an object when it is created. By setting the initial state of the object in the __init__() method, we ensure that all objects of the class start with the desired attribute values.\n",
    "\n",
    "Example:\n",
    "        \n",
    "        class Person:\n",
    "    def __init__(self, name, age):\n",
    "        self.name = name\n",
    "        self.age = age\n",
    "\n",
    "person1 = Person(\"John\", 25)\n",
    "person2 = Person(\"Alice\", 30)\n",
    "\n",
    "print(person1.name)   # Output: John\n",
    "print(person2.age)    # Output: 30\n"
   ]
  },
  {
   "cell_type": "markdown",
   "id": "2ddec02d-fa8f-44e7-9864-f25296a7fdfd",
   "metadata": {},
   "source": [
    "# Q4. Why self is used in OOPs?"
   ]
  },
  {
   "cell_type": "markdown",
   "id": "58f8e8ad-f016-455a-a1fd-d1f93e1d588d",
   "metadata": {},
   "source": [
    "solution:\n",
    "    In object-oriented programming (OOP), the self keyword is used to refer to the instance of a class within its own methods. It represents the object itself and allows access to its attributes and methods.\n",
    "\n",
    "The self parameter is the first parameter in any method defined within a class. It acts as a reference to the instance of the class and allows us to access and modify the object's attributes and invoke its methods."
   ]
  },
  {
   "cell_type": "markdown",
   "id": "33a72760-6043-4e0c-ac29-1d7a364e7479",
   "metadata": {},
   "source": [
    "# Q5. What is inheritance? Give an example for each type of inheritance"
   ]
  },
  {
   "cell_type": "markdown",
   "id": "80aeae7c-cfea-46fb-8ae7-c10739f657f4",
   "metadata": {},
   "source": [
    "inheritance: Python is an Object-Oriented Programming language and one of the features of Object-Oriented Programming is Inheritance. Inheritance is the ability of one class to inherit another class. Inheritance provides reusability of code and allows us to create complex and real-world-like relationships among objects."
   ]
  },
  {
   "cell_type": "markdown",
   "id": "ca67ff3a-8fca-4ef9-9bd5-ab9ab6fe8901",
   "metadata": {},
   "source": [
    "<!-- types of inheritance:\n",
    "    Single Inheritance: Single inheritance refers to a scenario where a class inherits properties and methods from a single base class. For example, consider a class hierarchy involving animals. We can have a base class called \"Animal\" with properties and methods common to all animals, and then derive a \"Dog\" class from the \"Animal\" class. The \"Dog\" class will inherit all the attributes and behaviors of the \"Animal\" class.\n",
    "python\n",
    "Copy code\n",
    "class Animal:\n",
    "    def __init__(self, name):\n",
    "        self.name = name\n",
    "\n",
    "    def speak(self):\n",
    "        pass\n",
    "\n",
    "class Dog(Animal):\n",
    "    def speak(self):\n",
    "        return \"Woof!\"\n",
    "\n",
    "dog = Dog(\"Buddy\")\n",
    "print(dog.name)   # Output: Buddy\n",
    "print(dog.speak()) \n",
    "\n",
    "    Multiple Inheritance: Multiple inheritance allows a class to inherit properties and methods from multiple base classes. Consider a scenario where we have a class hierarchy involving shapes. We can have a base class called \"Shape\" with common properties and methods, and then derive subclasses such as \"Circle\" and \"Rectangle\" from \"Shape.\" Additionally, we can have another base class called \"Color\" with properties and methods related to color, and then derive a subclass called \"ColoredShape\" from both \"Shape\" and \"Color.\"\n",
    "python\n",
    "Copy code\n",
    "class Shape:\n",
    "    def __init__(self, name):\n",
    "        self.name = name\n",
    "\n",
    "    def area(self):\n",
    "        pass\n",
    "\n",
    "class Color:\n",
    "    def __init__(self, color):\n",
    "        self.color = color\n",
    "\n",
    "    def set_color(self, color):\n",
    "        self.color = color\n",
    "\n",
    "class ColoredShape(Shape, Color):\n",
    "    def __init__(self, name, color):\n",
    "        Shape.__init__(self, name)\n",
    "        Color.__init__(self, color)\n",
    "\n",
    "circle = ColoredShape(\"Circle\", \"Red\")\n",
    "circle.set_color(\"Blue\")\n",
    "print(circle.name)   # Output: Circle\n",
    "print(circle.color)   # Output: Blue\n",
    "\n",
    "    Multilevel Inheritance: Multilevel inheritance involves a chain of inheritance where a derived class inherits properties and methods from a base class, and another derived class inherits from that derived class. For example, consider a class hierarchy involving vehicles. We can have a base class called \"Vehicle\" with common attributes and behaviors, then derive a class called \"Car\" from \"Vehicle,\" and further derive a class called \"SportsCar\" from \"Car.\"\n",
    "python\n",
    "Copy code\n",
    "class Vehicle:\n",
    "    def __init__(self, name):\n",
    "        self.name = name\n",
    "\n",
    "    def start_engine(self):\n",
    "        pass\n",
    "\n",
    "class Car(Vehicle):\n",
    "    def drive(self):\n",
    "        pass\n",
    "\n",
    "class SportsCar(Car):\n",
    "    def accelerate(self):\n",
    "        pass\n",
    "\n",
    "sports_car = SportsCar(\"Ferrari\")\n",
    "print(sports_car.name)   # Output: Ferrari\n",
    "sports_car.start_engine()   # Output: (implementation specific)\n",
    "sports_car.drive()   # Output: (implementation specific)\n",
    "sports_car.accelerate()   # Output: (implementation specific)\n",
    "\n",
    "\n",
    "    Hierarchical Inheritance: Hierarchical inheritance occurs when multiple derived classes inherit from a single base class. Each derived class will have its own set of additional attributes and behaviors, in addition to the ones inherited from the base class.\n",
    "\n",
    "For example, consider a class hierarchy involving vehicles. We can have a base class called \"Vehicle\" with common attributes and methods, and then derive multiple classes such as \"Car,\" \"Motorcycle,\" and \"Truck\" from the \"Vehicle\" class. Each derived class can have its own specific properties and methods.\n",
    "\n",
    "python\n",
    "Copy code\n",
    "class Vehicle:\n",
    "    def __init__(self, name):\n",
    "        self.name = name\n",
    "\n",
    "    def start_engine(self):\n",
    "        print(\"Engine started.\")\n",
    "\n",
    "class Car(Vehicle):\n",
    "    def drive(self):\n",
    "        print(\"Car driving.\")\n",
    "\n",
    "class Motorcycle(Vehicle):\n",
    "    def ride(self):\n",
    "        print(\"Motorcycle riding.\")\n",
    "\n",
    "class Truck(Vehicle):\n",
    "    def load_cargo(self):\n",
    "        print(\"Truck loading cargo.\")\n",
    "\n",
    "car = Car(\"Sedan\")\n",
    "car.start_engine()   # Output: Engine started.\n",
    "car.drive()   # Output: Car driving.\n",
    "\n",
    "motorcycle = Motorcycle(\"Sports Bike\")\n",
    "motorcycle.start_engine()   # Output: Engine started.\n",
    "motorcycle.ride()   # Output: Motorcycle riding.\n",
    "\n",
    "truck = Truck(\"Semi-truck\")\n",
    "truck.start_engine()   # Output: Engine started.\n",
    "truck.load_cargo()   # Output: Truck loading cargo\n",
    " -->"
   ]
  },
  {
   "cell_type": "code",
   "execution_count": null,
   "id": "90349eef-d074-48de-89fd-a734277f7caa",
   "metadata": {},
   "outputs": [],
   "source": []
  }
 ],
 "metadata": {
  "kernelspec": {
   "display_name": "Python 3 (ipykernel)",
   "language": "python",
   "name": "python3"
  },
  "language_info": {
   "codemirror_mode": {
    "name": "ipython",
    "version": 3
   },
   "file_extension": ".py",
   "mimetype": "text/x-python",
   "name": "python",
   "nbconvert_exporter": "python",
   "pygments_lexer": "ipython3",
   "version": "3.10.8"
  }
 },
 "nbformat": 4,
 "nbformat_minor": 5
}
